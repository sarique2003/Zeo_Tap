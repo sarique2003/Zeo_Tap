{
  "nbformat": 4,
  "nbformat_minor": 0,
  "metadata": {
    "colab": {
      "provenance": [],
      "authorship_tag": "ABX9TyMeD0Kpr7+VRVv/KG7I6ZQD",
      "include_colab_link": true
    },
    "kernelspec": {
      "name": "python3",
      "display_name": "Python 3"
    },
    "language_info": {
      "name": "python"
    }
  },
  "cells": [
    {
      "cell_type": "markdown",
      "metadata": {
        "id": "view-in-github",
        "colab_type": "text"
      },
      "source": [
        "<a href=\"https://colab.research.google.com/github/sarique2003/Zeo_Tap/blob/main/Mohd_Sarique_Lookalike.ipynb\" target=\"_parent\"><img src=\"https://colab.research.google.com/assets/colab-badge.svg\" alt=\"Open In Colab\"/></a>"
      ]
    },
    {
      "cell_type": "code",
      "source": [
        "import os\n",
        "import requests\n",
        "from google.colab import drive\n",
        "\n",
        "# the json files are uploaded in drive and being used after mounting\n",
        "drive.mount('/content/drive')\n",
        "drive_path = '/content/drive/MyDrive/Zeotap'"
      ],
      "metadata": {
        "colab": {
          "base_uri": "https://localhost:8080/"
        },
        "id": "CFP6G2vTqjoB",
        "outputId": "44fae35f-0860-4a5b-cefb-25973aabd571"
      },
      "execution_count": null,
      "outputs": [
        {
          "output_type": "stream",
          "name": "stdout",
          "text": [
            "Mounted at /content/drive\n"
          ]
        }
      ]
    },
    {
      "cell_type": "code",
      "execution_count": null,
      "metadata": {
        "colab": {
          "base_uri": "https://localhost:8080/"
        },
        "id": "x5u8N_AXqSjR",
        "outputId": "bc9646fe-47d9-4728-9b7e-29c8b30d974e"
      },
      "outputs": [
        {
          "output_type": "stream",
          "name": "stdout",
          "text": [
            "Lookalike Recommendations:\n",
            "   CustomerID                                         Lookalikes\n",
            "0       C0001  [(C0184, 0.9953164048833796), (C0152, 0.986461...\n",
            "1       C0002  [(C0159, 0.9762072067882096), (C0007, 0.976058...\n",
            "2       C0003  [(C0190, 0.990316934348167), (C0181, 0.9672020...\n",
            "3       C0004  [(C0113, 0.9848821475382803), (C0102, 0.981839...\n",
            "4       C0005  [(C0159, 0.9981854734500303), (C0007, 0.989670...\n",
            "5       C0006  [(C0126, 0.9908486592116308), (C0187, 0.957528...\n",
            "6       C0007  [(C0159, 0.9927704645126596), (C0005, 0.989670...\n",
            "7       C0008  [(C0018, 0.9455849910250068), (C0034, 0.936933...\n",
            "8       C0009  [(C0119, 0.9831364766104133), (C0063, 0.973460...\n",
            "9       C0010  [(C0019, 0.9913050237693206), (C0073, 0.976647...\n",
            "10      C0011  [(C0107, 0.99212001597206), (C0001, 0.96995070...\n",
            "11      C0012  [(C0013, 0.9804910159898064), (C0039, 0.972446...\n",
            "12      C0013  [(C0012, 0.9804910159898064), (C0087, 0.976456...\n",
            "13      C0014  [(C0063, 0.9805580562974943), (C0119, 0.964916...\n",
            "14      C0015  [(C0058, 0.9888523123725128), (C0020, 0.980169...\n",
            "15      C0016  [(C0183, 0.9886546702283606), (C0185, 0.985115...\n",
            "16      C0017  [(C0041, 0.9702408063377739), (C0124, 0.936644...\n",
            "17      C0018  [(C0046, 0.9885294771379075), (C0008, 0.945584...\n",
            "18      C0019  [(C0010, 0.9913050237693206), (C0199, 0.988866...\n",
            "19      C0020  [(C0033, 0.9944885126980001), (C0058, 0.984909...\n"
          ]
        }
      ],
      "source": [
        "import pandas as pd\n",
        "import numpy as np\n",
        "from sklearn.metrics.pairwise import cosine_similarity\n",
        "from sklearn.preprocessing import StandardScaler\n",
        "\n",
        "\n",
        "customers = pd.read_csv(f\"{drive_path}/Customers.csv\")\n",
        "products = pd.read_csv(f\"{drive_path}/Products.csv\")\n",
        "transactions = pd.read_csv(f\"{drive_path}/Transactions.csv\")\n",
        "\n",
        "\n",
        "merged_data = pd.merge(transactions, customers, on='CustomerID')\n",
        "merged_data = pd.merge(merged_data, products, on='ProductID')\n",
        "customer_features = merged_data.groupby('CustomerID').agg({\n",
        "    'TotalValue': 'sum',  # Total spend\n",
        "    'Quantity': 'sum',    # Total quantity purchased\n",
        "    'Region': 'first',    # Region\n",
        "    'SignupDate': 'first' # Signup date\n",
        "}).reset_index()\n",
        "\n",
        "# Calculate signup duration (in days)\n",
        "customer_features['SignupDuration'] = (pd.to_datetime('today') - pd.to_datetime(customer_features['SignupDate'])).dt.days\n",
        "customer_features = customer_features.drop(columns=['SignupDate'])\n",
        "customer_features = pd.get_dummies(customer_features, columns=['Region'])\n",
        "\n",
        "# Normalize features\n",
        "scaler = StandardScaler()\n",
        "scaled_features = scaler.fit_transform(customer_features.drop(columns=['CustomerID']))\n",
        "similarity_matrix = cosine_similarity(scaled_features)\n",
        "\n",
        "# Function to get top 3 lookalikes\n",
        "def get_lookalikes(customer_id, similarity_matrix, top_n=3):\n",
        "    customer_index = customer_features[customer_features['CustomerID'] == customer_id].index[0]\n",
        "    similarities = similarity_matrix[customer_index]\n",
        "    top_indices = similarities.argsort()[-top_n-1:-1][::-1]  # Exclude the customer itself\n",
        "    return [(customer_features.iloc[i]['CustomerID'], similarities[i]) for i in top_indices]\n",
        "\n",
        "lookalike_map = {}\n",
        "for customer_id in customer_features['CustomerID'].iloc[:20]:\n",
        "    lookalike_map[customer_id] = get_lookalikes(customer_id, similarity_matrix)\n",
        "\n",
        "\n",
        "lookalike_df = pd.DataFrame(lookalike_map.items(), columns=['CustomerID', 'Lookalikes'])\n",
        "lookalike_df.to_csv(\"Lookalike.csv\", index=False)\n",
        "print(\"Lookalike Recommendations:\")\n",
        "print(lookalike_df)"
      ]
    }
  ]
}